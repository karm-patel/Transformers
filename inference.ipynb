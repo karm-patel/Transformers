{
 "cells": [
  {
   "cell_type": "code",
   "execution_count": 1,
   "id": "9a13b624",
   "metadata": {},
   "outputs": [
    {
     "name": "stderr",
     "output_type": "stream",
     "text": [
      "/data3/home/karmpatel/miniconda3/envs/torch310/lib/python3.11/site-packages/tqdm/auto.py:21: TqdmWarning: IProgress not found. Please update jupyter and ipywidgets. See https://ipywidgets.readthedocs.io/en/stable/user_install.html\n",
      "  from .autonotebook import tqdm as notebook_tqdm\n"
     ]
    }
   ],
   "source": [
    "import os\n",
    "os.environ[\"CUDA_VISIBLE_DEVICES\"] = \"4\"\n",
    "\n",
    "import torch\n",
    "from datasets import load_dataset\n",
    "\n",
    "from tokenizers import Tokenizer\n",
    "from tokenizers.models import WordLevel\n",
    "from tokenizers.trainers import WordLevelTrainer\n",
    "from tokenizers.pre_tokenizers import Whitespace\n",
    "import os\n",
    "from dataloader.dataloader import NMTDataset\n",
    "from torch.utils.data import DataLoader, random_split\n",
    "from models.transformer import Transformer\n",
    "from torchsummary import torchsummary\n",
    "from tqdm import tqdm\n",
    "import matplotlib.pyplot as plt\n",
    "from torchmetrics import ExactMatch, Accuracy\n",
    "\n",
    "\n",
    "device = torch.device(\"cuda\")\n",
    "cpu_device = torch.device(\"cpu\")"
   ]
  },
  {
   "cell_type": "code",
   "execution_count": 2,
   "id": "408eb8c8",
   "metadata": {},
   "outputs": [
    {
     "name": "stderr",
     "output_type": "stream",
     "text": [
      "Repo card metadata block was not found. Setting CardData to empty.\n"
     ]
    },
    {
     "name": "stdout",
     "output_type": "stream",
     "text": [
      "40000\n",
      "4000\n",
      "4000\n"
     ]
    }
   ],
   "source": [
    "n_train = 40000\n",
    "\n",
    "raw_dataset = load_dataset('cfilt/iitb-english-hindi', split=f\"train[:{n_train}]\")\n",
    "print(len(raw_dataset))\n",
    "\n",
    "# determine max length\n",
    "val_ds_size = 4000\n",
    "d_model = 512\n",
    "drop_prob = 0.1\n",
    "n_h = 8\n",
    "d_ff = 2048\n",
    "d_k = d_model/n_h\n",
    "n_layers = 6\n",
    "seq_len = 130\n",
    "B = 256\n",
    "lr = 1e-4\n",
    "n_epochs = 10\n",
    "\n",
    "train_ds_size = n_train - val_ds_size\n",
    "train_dataset, val_dataset = random_split(raw_dataset, [train_ds_size, val_ds_size], generator=torch.Generator().manual_seed(42))\n",
    "\n",
    "\n",
    "# val_dataset = load_dataset('cfilt/iitb-english-hindi', split=\"validation\")\n",
    "print(len(val_dataset))\n",
    "\n",
    "val_dataloader = torch.utils.data.DataLoader(val_dataset, batch_size=len(val_dataset))\n",
    "vl = next(iter(val_dataloader))\n",
    "\n",
    "\n",
    "for lang in [\"hi\", \"en\"]:\n",
    "    tokenizer_path = f\"dataset/vocab_{lang}_{n_train}.json\"\n",
    "    if os.path.exists(tokenizer_path):\n",
    "        # load tokenizer\n",
    "        tokenizer = Tokenizer.from_file(tokenizer_path)\n",
    "    else:\n",
    "        tokenizer = Tokenizer(WordLevel(unk_token=\"<unk>\"))\n",
    "        tokenizer.pre_tokenizer = Whitespace()\n",
    "        trainer = WordLevelTrainer(special_tokens=['<unk>', '<pad>', '<sos>', '<eos>'], min_frequency=2)\n",
    "        tokenizer.train_from_iterator(tr['translation'][lang] + vl['translation'][lang]+ tt['translation'][lang], trainer=trainer)\n",
    "\n",
    "        # save tokenizer\n",
    "        tokenizer.save(tokenizer_path)\n",
    "\n",
    "\n",
    "tokenizer_src = Tokenizer.from_file(f\"dataset/vocab_en_{n_train}.json\")\n",
    "tokenizer_tar = Tokenizer.from_file(f\"dataset/vocab_hi_{n_train}.json\")\n",
    "\n",
    "val_ds = NMTDataset(tokenizer_src, tokenizer_tar, val_dataloader, max_length=seq_len)\n",
    "print(len(val_ds))\n",
    "\n",
    "val_dl = DataLoader(val_ds, batch_size=B, shuffle=True)"
   ]
  },
  {
   "cell_type": "code",
   "execution_count": 3,
   "id": "697ef2b1",
   "metadata": {},
   "outputs": [
    {
     "data": {
      "text/plain": [
       "torch.Size([256, 130])"
      ]
     },
     "execution_count": 3,
     "metadata": {},
     "output_type": "execute_result"
    }
   ],
   "source": [
    "src, tar = next(iter(val_dl))\n",
    "src.shape"
   ]
  },
  {
   "cell_type": "code",
   "execution_count": 4,
   "id": "68ce979d",
   "metadata": {},
   "outputs": [],
   "source": [
    "start = 10\n",
    "end = 14\n",
    "src_tensor = torch.stack(val_ds[start:end][0])\n",
    "tar_tensor = torch.stack(val_ds[start:end][1])\n",
    "seq_src = list(map(list , src_tensor))\n",
    "seq_tar = list(map(list , tar_tensor))"
   ]
  },
  {
   "cell_type": "code",
   "execution_count": 5,
   "id": "f1d67fcf",
   "metadata": {},
   "outputs": [],
   "source": [
    "to_list = lambda tensor: list(map(list , tensor))"
   ]
  },
  {
   "cell_type": "code",
   "execution_count": 6,
   "id": "99877c11",
   "metadata": {},
   "outputs": [
    {
     "data": {
      "text/plain": [
       "(['Hide process para _ meters',\n",
       "  'solitaire ; cards ; klondike ; spider ; freecell ; patience ;',\n",
       "  'Check Out Files',\n",
       "  \"If you ' re ever lost and alone in the woods , hug a tree\"],\n",
       " ['छुपाएँ process अनुच्छेद मीटर्स',\n",
       "  'सोलिटेयर ; पत्ते ; क्लोंडाइक ; मकड़ी ; FreeCell ; धैर्य ;',\n",
       "  'जाँच बाहर फ़ाइल',\n",
       "  'यदि आप कभी जंगल में अकेले गुम हो जाएँ , तो किसी पेड़ के आगोश में जाएँ'])"
      ]
     },
     "execution_count": 6,
     "metadata": {},
     "output_type": "execute_result"
    }
   ],
   "source": [
    "tokenizer_src.decode_batch(seq_src), tokenizer_tar.decode_batch(seq_tar)"
   ]
  },
  {
   "cell_type": "code",
   "execution_count": 7,
   "id": "30ce65eb",
   "metadata": {},
   "outputs": [],
   "source": [
    "transformer = Transformer(tokenizer_src.get_vocab_size(), tokenizer_tar.get_vocab_size(), \n",
    "                          d_model, n_h, n_layers , d_ff, seq_len, drop_prob, \n",
    "                          tokenizer_src.token_to_id(\"<pad>\"), tokenizer_tar.token_to_id(\"<pad>\")).to(device)"
   ]
  },
  {
   "cell_type": "code",
   "execution_count": 8,
   "id": "dbc390f5",
   "metadata": {},
   "outputs": [
    {
     "data": {
      "text/plain": [
       "<All keys matched successfully>"
      ]
     },
     "execution_count": 8,
     "metadata": {},
     "output_type": "execute_result"
    }
   ],
   "source": [
    "transformer.load_state_dict(torch.load(\"ckpts/transformer_40000_0.0001_10\"))"
   ]
  },
  {
   "cell_type": "code",
   "execution_count": 9,
   "id": "ae70134b",
   "metadata": {},
   "outputs": [],
   "source": [
    "op = transformer(src_tensor.to(device), tar_tensor.to(device))"
   ]
  },
  {
   "cell_type": "code",
   "execution_count": 10,
   "id": "79dd69b8",
   "metadata": {},
   "outputs": [
    {
     "data": {
      "text/plain": [
       "torch.Size([4, 130])"
      ]
     },
     "execution_count": 10,
     "metadata": {},
     "output_type": "execute_result"
    }
   ],
   "source": [
    "transalation = torch.argmax(op, dim=-1)\n",
    "transalation.shape"
   ]
  },
  {
   "cell_type": "code",
   "execution_count": 11,
   "id": "6f670579",
   "metadata": {},
   "outputs": [
    {
     "data": {
      "text/plain": [
       "(['Hide process para _ meters',\n",
       "  'solitaire ; cards ; klondike ; spider ; freecell ; patience ;',\n",
       "  'Check Out Files',\n",
       "  \"If you ' re ever lost and alone in the woods , hug a tree\"],\n",
       " ['छुपाएँ process अनुच्छेद मीटर्स',\n",
       "  'सोलिटेयर ; पत्ते ; क्लोंडाइक ; मकड़ी ; FreeCell ; धैर्य ;',\n",
       "  'जाँच बाहर फ़ाइल',\n",
       "  'यदि आप कभी जंगल में अकेले गुम हो जाएँ , तो किसी पेड़ के आगोश में जाएँ'],\n",
       " ['<sos> छुपाएँ process अनुच्छेद मीटर्स <eos> checksum checksum checksum checksum <sos> <sos> छवि checksum checksum checksum <sos> <sos> checksum checksum checksum slot slot जरूरी अंजुता checksum छवि checksum <sos> slot <sos> slot slot slot checksum checksum cdrkit slot कुछ बिंदु बिंदु अंजुता <sos> छवि slot <sos> slot checksum checksum प्लगइन checksum checksum checksum मिटाएँ slot <sos> जरूरत slot <sos> <sos> <sos> slot जरूरी slot slot slot slot checksum सर्वर जरूरी slot slot slot जरूरत checksum checksum जरूरी जरूरी slot जरूरी checksum जरूरत जरूरत slot जरूरी कुछ जरूरी slot कुछ जरूरी slot जरूरत लिया अंजुता छवि slot slot cdrkit छवि आईडी छवि छवि छवि आकार ) अंजुता अंजुता अंजुता छवि छवि अंजुता डील लिया अंजुता डील डील लिया लिया लिया छवि लिया छवि लिया लिया छवि छवि <sos> 2 डील छवि',\n",
       "  '<sos> सोलिटेयर ; पत्ते ; क्लोंडाइक ; मकड़ी ; FreeCell ; धैर्य ; <eos> सर्वर कार्ड्स slot checksum कुछ कुछ रिपोर्टिंग जरूरी FreeCell checksum video स्लाट कुछ स्लाट कुछ मिटाएँ कुछ लिएः slot कुछ निगरानी मिटाएँ कुछ कुछ कुछ कुछ सिर्फ जरूरी आयात slot कुछ संपर्क कुछ FreeCell सिर्फ जरूरी चुनो कलाकार लिएः FreeCell कुछ सिर्फ कुछ checksum कुछ भारी बिंदु FreeCell slot checksum slot कुछ slot slot कुछ एडीटर slot slot कुछ कुछ स्लाट जरूरी जरूरी जरूरी जरूरी कुछ FreeCell slot कुछ कुछ कुछ कुछ कुछ जरूरी कुछ कुछ कुछ कुछ कुछ slot बिना कुछ कुछ लिएः कुछ कुछ कुछ कुछ कुछ ई लिएः लिएः कार्ड्स कुछ कुछ लिएः सिर्फ जरूरी निगरानी कुछ कुछ कुछ कुछ कुछ अंजुता कुछ लिया कुछ कुछ छवि कुछ FreeCell checksum स्लाट video video',\n",
       "  '<sos> जाँच बाहर फ़ाइल <eos> डील जरूरी checksum जरूरी छवि जरूरी slot slot संस्थापित था slot त्यागना checksum अंतिम slot slot जरूरी slot <sos> slot संकेत छवि जरूरी slot slot डील अंतिम slot सीडी छवि लिएः जरूरी slot डील आयात कुछ बिंदु slot जरूरी slot slot slot slot slot छवि जरूरी checksum slot जरूरी slot छवि slot जरूरत <sos> जरूरत slot checksum छवि slot slot slot slot जरूरी slot जरूरी slot slot जरूरी checksum slot slot जरूरी जरूरी जरूरी जरूरी जरूरत slot slot जरूरी slot slot डील slot slot कुछ कुछ slot डील डील छवि slot slot slot छवि छवि slot डील अंजुता अंजुता डील अंजुता अंजुता डील सुपुर्द slot आकार डील सिर्फ डील slot लिया लिया डील अंजुता लिया था लिया डील cdrkit डील छवि डील कुछ अंजुता डील',\n",
       "  '<sos> यदि आप कभी जंगल में अकेले गुम हो जाएँ , तो किसी पेड़ के आगोश में जाएँ <eos> checksum slot slot मिटाएँ slot कुछ checksum checksum छवि बिना स्थान slot slot slot slot slot slot कुछ जरूरी slot अंजुता आयात जरूरी आयात आयात कुछ आयात slot slot सर्वर छवि बिना checksum slot slot सीवीएस नियमित slot छवि प्रारंभ checksum स्थान प्रारंभ slot slot slot लिएः कि slot setting slot slot <sos> slot slot slot checksum slot जरूरी रूप slot slot slot slot slot कुछ slot slot कुछ कुछ slot कुछ slot slot slot प्रारंभ slot लिएः L slot छवि छवि छवि आकार छवि आकार slot सुपुर्द कुछ अंजुता slot slot सिर्फ अंजुता कि प्रारंभ प्रारंभ लिया छवि अंजुता था सिर्फ सुपुर्द छवि छवि छवि छवि आकार सिर्फ छवि रूप'])"
      ]
     },
     "execution_count": 11,
     "metadata": {},
     "output_type": "execute_result"
    }
   ],
   "source": [
    "transalation = list(map(list , transalation))\n",
    "tokenizer_src.decode_batch(seq_src), tokenizer_tar.decode_batch(seq_tar), tokenizer_tar.decode_batch(transalation, skip_special_tokens=False)"
   ]
  },
  {
   "cell_type": "markdown",
   "id": "33c06a49",
   "metadata": {},
   "source": [
    "### inference"
   ]
  },
  {
   "cell_type": "code",
   "execution_count": 12,
   "id": "14bda1c5",
   "metadata": {},
   "outputs": [
    {
     "data": {
      "text/plain": [
       "tensor([[-1.0000e+09, -1.0000e+09, -1.0000e+09, -1.0000e+09, -1.0000e+09],\n",
       "        [-1.0000e+09, -1.0000e+09, -1.0000e+09, -1.0000e+09, -1.0000e+09]])"
      ]
     },
     "execution_count": 12,
     "metadata": {},
     "output_type": "execute_result"
    }
   ],
   "source": [
    "torch.ones((2,5))*-1e9"
   ]
  },
  {
   "cell_type": "code",
   "execution_count": 13,
   "id": "fa1f72f0",
   "metadata": {},
   "outputs": [
    {
     "data": {
      "text/plain": [
       "tensor([[0.2000, 0.2000, 0.2000, 0.2000, 0.2000],\n",
       "        [0.2000, 0.2000, 0.2000, 0.2000, 0.2000]])"
      ]
     },
     "execution_count": 13,
     "metadata": {},
     "output_type": "execute_result"
    }
   ],
   "source": [
    "torch.softmax(torch.ones((2,5))*-1e9, dim=-1)"
   ]
  },
  {
   "cell_type": "code",
   "execution_count": 14,
   "id": "9e76b3c5",
   "metadata": {},
   "outputs": [
    {
     "data": {
      "text/plain": [
       "tensor([[  2,  46,  32,  ...,   1,   1,   1],\n",
       "        [  2,   0, 522,  ...,   1,   1,   1],\n",
       "        [  2, 339,  11,  ...,   1,   1,   1],\n",
       "        ...,\n",
       "        [  2, 282,   8,  ...,   1,   1,   1],\n",
       "        [  2,   7, 713,  ...,   1,   1,   1],\n",
       "        [  2,  86,  42,  ...,   1,   1,   1]])"
      ]
     },
     "execution_count": 14,
     "metadata": {},
     "output_type": "execute_result"
    }
   ],
   "source": [
    "curr_ind = 4\n",
    "start = 100\n",
    "end = 108\n",
    "src_tensor = torch.stack(val_ds[start:end][0])\n",
    "tar_tensor = torch.stack(val_ds[start:end][1])\n",
    "\n",
    "curr_src_tensor = torch.ones(src_tensor.shape, dtype=src_tensor.dtype)\n",
    "curr_src_tensor.copy_(src_tensor)\n",
    "# curr_src_tensor[:,curr_ind+1] = tokenizer_src.token_to_id(\"<eos>\") \n",
    "# curr_src_tensor[:, curr_ind+2:] = tokenizer_src.token_to_id(\"<pad>\")"
   ]
  },
  {
   "cell_type": "code",
   "execution_count": 15,
   "id": "f4d9889e",
   "metadata": {},
   "outputs": [
    {
     "data": {
      "text/plain": [
       "tensor([[   2,  141,   67,  ...,    1,    1,    1],\n",
       "        [   2,  843, 6862,  ...,    1,    1,    1],\n",
       "        [   2, 1454,    3,  ...,    1,    1,    1],\n",
       "        ...,\n",
       "        [   2,   84,   96,  ...,    1,    1,    1],\n",
       "        [   2,   73,   74,  ...,    1,    1,    1],\n",
       "        [   2,   70,   36,  ...,    1,    1,    1]])"
      ]
     },
     "execution_count": 15,
     "metadata": {},
     "output_type": "execute_result"
    }
   ],
   "source": [
    "curr_tar_tensor = torch.ones(tar_tensor.shape, dtype=tar_tensor.dtype)\n",
    "curr_tar_tensor.copy_(tar_tensor)\n",
    "curr_tar_tensor[:, curr_ind:] = tokenizer_tar.token_to_id(\"<pad>\")\n",
    "curr_tar_tensor"
   ]
  },
  {
   "cell_type": "code",
   "execution_count": 16,
   "id": "dda5f955",
   "metadata": {},
   "outputs": [],
   "source": [
    "op = transformer(curr_src_tensor.to(device), curr_tar_tensor.to(device))"
   ]
  },
  {
   "cell_type": "code",
   "execution_count": 17,
   "id": "6c243e77",
   "metadata": {},
   "outputs": [
    {
     "data": {
      "text/plain": [
       "torch.Size([8, 130])"
      ]
     },
     "execution_count": 17,
     "metadata": {},
     "output_type": "execute_result"
    }
   ],
   "source": [
    "transalation = torch.argmax(op, dim=-1)\n",
    "transalation.shape"
   ]
  },
  {
   "cell_type": "code",
   "execution_count": 18,
   "id": "24c48d8a",
   "metadata": {},
   "outputs": [
    {
     "data": {
      "text/plain": [
       "(['CD / DVD Creator Folder',\n",
       "  'search',\n",
       "  'Command :',\n",
       "  'Shift',\n",
       "  'Place the two of spades next to the ace of spades .',\n",
       "  'jack of hearts',\n",
       "  '_ Change Location',\n",
       "  'Open an executable or attach to a process to start debugging .'],\n",
       " ['CD / DVD सर्जक फोल्डर',\n",
       "  'अंजूटा हैल्प ब्राउजर',\n",
       "  'कमांडः',\n",
       "  'शिफ्ट',\n",
       "  'हुकुम की दुक्का के बगल में हुकुम के इक्का को रखें .',\n",
       "  'लाल पान का गुलाम',\n",
       "  'बदलें स्थान ( _ C )',\n",
       "  'खोलें या को a process को प्रारंभ नहीं'],\n",
       " ['<sos> CD / DVD slot slot slot slot slot slot slot checksum checksum slot slot slot checksum slot slot slot slot slot कुछ slot slot checksum सीडी checksum slot slot कुछ कुछ slot अंतिम slot सीडी सीडी कुछ सीवीएस सीडी कुछ सीडी सिर्फ कुछ सिर्फ जरूरी slot सिर्फ सीडी सीडी सिर्फ सीवीएस सीडी slot सिर्फ अंतिम सीडी कुछ <sos> अंतिम सीडी सीडी सीडी जरूरी slot slot slot कुछ सिर्फ slot slot slot slot slot slot slot slot slot slot slot slot जरूरत कुछ कुछ कुछ slot कुछ कुछ slot slot slot slot सीडी सिर्फ slot पर्याप्त सीडी slot कुछ छवि छवि छवि अंजुता आयात चुनो आकार सिर्फ अंजुता slot अंतिम अंजुता कुछ अंजुता कुछ अंजुता डील कुछ अंजुता कुछ हो कुछ सिर्फ छवि लिया कुछ चौड़ाई अंजुता था डील स्लाइस',\n",
       "  '<sos> अंजूटा हैल्प ब्राउजर slot slot checksum जरूरी checksum checksum जरूरी सर्वर slot slot slot slot checksum सामान्य slot कुछ slot slot कुछ छवि संलग्न चौड़ाई सिर्फ slot छवि अंतिम जरूरी checksum slot slot अंतिम निगरानी सिर्फ slot slot कुछ आयात आयात रिबेस कुछ अंतिम slot सिर्फ सिर्फ slot लिएः चुनो slot checksum सिर्फ सिर्फ slot रिबेस slot रिबेस checksum अंजुता बदला रिबेस slot सिर्फ slot checksum cdrkit सिर्फ सिर्फ एक्सेसेबल slot slot slot checksum slot सिर्फ slot डील डील slot जरूरत slot slot slot slot डील कुछ सिर्फ कुछ slot कुछ कुछ पर्याप्त जरूरत डील लिएः लिएः सर्वर slot छवि डील लिएः अंजुता ठोस अंजुता अंजुता आकार डील डील सिर्फ कुछ अंजुता सिर्फ डील पर्याप्त डील अंजुता छवि अंजुता 6number कुछ निगरानी त्यागना अंजुता अंजुता सिर्फ डील डील डील',\n",
       "  '<sos> कमांडः <eos> कुछ सिर्फ checksum +) लिएः कमांडः कुछ कुछ कुछ था checksum checksum checksum कुछ कुछ त्रुटि अंतिम एक्सेसेबल कुछ Bugzilla कुछ कुछ checksum सिर्फ अंतिम लिएः अंतिम hi अखंडता पासः hi लिएः सिर्फ checksum सिर्फ कुछ slot कुछ सिर्फ कुछ कुछ सिर्फ सिर्फ कुछ सिर्फ सिर्फ सिर्फ checksum checksum सिर्फ सिर्फ सिर्फ सिर्फ त्यागना कुछ सिर्फ सिर्फ टीसीपी checksum सिर्फ कमांडः सिर्फ सिर्फ सिर्फ आयात सिर्फ सिर्फ कुछ छवि सिर्फ checksum कुछ checksum पर्याप्त कुछ कुछ स्वतःपूर्ण कुछ कुछ कुछ कुछ कुछ कुछ कुछ कुछ सिर्फ कुछ कुछ सिर्फ कुछ आकार कुछ slot डील डील कुछ कुछ कुछ कुछ कुछ सिर्फ लिएः अंजुता सिर्फ आकार कुछ कुछ सिर्फ कुछ सिर्फ कुछ कुछ कुछ अंजुता अंजुता सिर्फ अंजुता सिर्फ सिर्फ कुछ छवि कुछ सिर्फ recent सिर्फ डील निगरानी',\n",
       "  '<sos> शिफ्ट <eos> लिएः पैकेजः अंतिम स्लाइस छवि कुछ अगर कुछ checksum checksum कुछ कुछ कुछ slot कुछ अंतिम अंतिम <sos> checksum अंतिम slot छवि कुछ अंतिम अंतिम अंतिम अंतिम <sos> कुछ अंतिम अंतिम आपको slot जरूरी डील कुछ इतना कुछ कुछ डील चुनो अंतिम अंतिम मिटाएँ आपको एमडी5 slot checksum इतना जरूरी चुनो इतना अंतिम cdrkit <sos> checksum अंतिम checksum अंतिम जरूरी slot slot इतना slot अंतिम आपको चुनो छवि slot slot slot checksum आपको सीवीएस इतना जरूरी डील डील आपको जरूरत कुछ slot कुछ slot जरूरी कुछ कुछ कुछ अंजुता कुछ slot डील डील डील स्लाइस डील डील आपको आपको आपको डील अंजुता डील अंजुता अंजुता कुछ डील अंजुता आकार अंतिम कुछ आपको अंजुता अंजुता डील अंजुता आकार इतना cdrkit छवि छवि कुछ आकार कुछ स्लाइस छवि कुछ',\n",
       "  '<sos> हुकुम की दुक्का कुछ कुछ slot कुछ कुछ checksum कुछ जरूरी slot करेगा रिबेस कुछ slot कुछ सिर्फ slot जरूरी आयात slot checksum slot त्यागना अंजुता कुछ checksum slot slot लिएः checksum slot कुछ लिया कुछ checksum checksum slot आयात कुछ कुछ सिर्फ लिएः slot कुछ slot जरूरी रिबेस सिर्फ जरूरी checksum slot slot कुछ सिर्फ जरूरत जरूरी कुछ checksum सीडी slot slot slot slot डील कुछ जरूरी slot slot slot slot जरूरत त्यागना कुछ कुछ कुछ जरूरी कुछ जरूरत जरूरत जरूरत slot अंजुता जरूरी जरूरी कुछ कुछ कुछ जरूरी slot डील जरूरत 2 प्रारंभ slot संस्थापित कुछ आकार सूची सर्वर छवि डील सिर्फ सिर्फ कुछ अंजुता अंजुता कुछ सुपुर्द अंतिम अंजुता कुछ लिया कुछ अंजुता लिया कुछ कुछ कुछ कुछ छवि छवि कुछ लिया छवि डील सिर्फ गया',\n",
       "  '<sos> लाल पान का डील आपको slot slot checksum त्यागना कुछ checksum कुछ डील checksum slot slot कुछ slot जरूरी slot slot मौज़ूदा कुछ जरूरी कुछ अंजुता slot slot slot कुछ slot slot अंतिम slot सिर्फ त्यागना slot कुछ कुछ सिर्फ slot आयात कुछ कुछ slot slot slot प्लगइन slot slot पर्याप्त सिर्फ इतना कुछ त्यागना कुछ कुछ slot slot slot जरूरी slot slot त्यागना slot slot slot डील कुछ छवि कुछ slot slot checksum जरूरी कुछ जरूरी कुछ जरूरी slot जरूरी slot slot slot कुछ जरूरी slot जरूरी कुछ कुछ कुछ डील जरूरत slot slot slot छवि slot छवि सर्वर छवि कुछ छवि ठोस ठोस सिर्फ अंजुता डील अंजुता slot अंजुता जरूरी slot डील अंजुता कुछ लिया डील इतना सिर्फ cdrkit कुछ छवि छवि डील अंजुता सुपुर्द कुछ सुपुर्द',\n",
       "  '<sos> बदलें स्थान ( slot slot लिया slot छवि अंतिम जरूरी कुछ अंतिम slot checksum slot slot checksum slot slot slot slot slot slot अंजुता करेगा छवि तस्वीर slot slot slot डील अंतिम रिबेस cdrkit cdrkit slot cdrkit संलग्न आयात जरूरी रिबेस slot जरूरी जरूरी अंतिम slot पर्याप्त डील ठोस slot 2 checksum slot slot करेगा रिबेस <sos> <sos> slot जरूरत जरूरी slot जरूरी जरूरी slot slot slot त्यागना slot रिबेस slot slot slot जरूरी जरूरी जरूरी जरूरी पैकेजः डील slot चौड़ाई slot slot जरूरी कुछ जरूरी slot जरूरी कुछ कुछ slot जरूरी अंजुता सूची slot 2 लिएः कुछ slot कुछ छवि छवि आप ठोस अंजुता कुछ अंजुता slot अंतिम slot जरूरी जरूरी डील अंजुता डील अंजुता अंजुता लिया अंजुता कुछ सर्वर लिया लिया डील था अंजुता अंजुता छवि जोड़ा',\n",
       "  '<sos> खोलें या को checksum था छवि slot कुछ अंजुता checksum slot कुछ था slot छवि slot छवि checksum छवि slot slot slot लिएः कुछ आयात checksum अंतिम कुछ आयात त्रुटि slot slot कि slot slot checksum छवि slot अंजुता slot slot अंतिम slot कुछ कुछ slot त्यागना सिर्फ slot लिएः त्यागना checksum कुछ slot slot त्यागना slot slot checksum slot कि slot slot slot slot slot जरूरी कुछ कुछ slot slot slot slot आयात कुछ कुछ रूप जरूरी रूप रूप जरूरत चौड़ाई slot slot slot कुछ कुछ slot कुछ slot कुछ कुछ slot slot आयात slot मिटाएँ छवि छवि छवि छवि छवि अंजुता छवि आकार अंजुता अंजुता slot slot कुछ अंजुता अंजुता अंजुता कुछ अंजुता लिया छवि अंजुता कि छवि छवि छवि छवि डील छवि छवि स्लाइस recent कुछ'])"
      ]
     },
     "execution_count": 18,
     "metadata": {},
     "output_type": "execute_result"
    }
   ],
   "source": [
    "transalation = list(map(list , transalation))\n",
    "tokenizer_src.decode_batch(to_list(curr_src_tensor), skip_special_tokens=True), tokenizer_tar.decode_batch(to_list(tar_tensor), skip_special_tokens=True), tokenizer_tar.decode_batch(transalation, skip_special_tokens=False)"
   ]
  },
  {
   "cell_type": "code",
   "execution_count": 65,
   "id": "c725ed81",
   "metadata": {},
   "outputs": [],
   "source": [
    "start = 3500\n",
    "end = 3508\n",
    "src_tensor = torch.stack(val_ds[start:end][0])\n",
    "tar_tensor = torch.stack(val_ds[start:end][1])"
   ]
  },
  {
   "cell_type": "code",
   "execution_count": 66,
   "id": "62ec4022",
   "metadata": {},
   "outputs": [
    {
     "data": {
      "text/plain": [
       "torch.Size([8, 130])"
      ]
     },
     "execution_count": 66,
     "metadata": {},
     "output_type": "execute_result"
    }
   ],
   "source": [
    "tar_tensor.shape"
   ]
  },
  {
   "cell_type": "code",
   "execution_count": 67,
   "id": "b47a6e66",
   "metadata": {},
   "outputs": [
    {
     "data": {
      "text/plain": [
       "tensor([[2, 1, 1,  ..., 1, 1, 1],\n",
       "        [2, 1, 1,  ..., 1, 1, 1],\n",
       "        [2, 1, 1,  ..., 1, 1, 1],\n",
       "        ...,\n",
       "        [2, 1, 1,  ..., 1, 1, 1],\n",
       "        [2, 1, 1,  ..., 1, 1, 1],\n",
       "        [2, 1, 1,  ..., 1, 1, 1]])"
      ]
     },
     "execution_count": 67,
     "metadata": {},
     "output_type": "execute_result"
    }
   ],
   "source": [
    "start = 2\n",
    "curr_tar_tensor = torch.ones(tar_tensor.shape, dtype=tar_tensor.dtype)\n",
    "curr_tar_tensor.copy_(tar_tensor)\n",
    "curr_tar_tensor[:, 1:] = tokenizer_tar.token_to_id(\"<pad>\")\n",
    "curr_tar_tensor"
   ]
  },
  {
   "cell_type": "code",
   "execution_count": 68,
   "id": "9cfaa3aa",
   "metadata": {},
   "outputs": [],
   "source": [
    "tar_sentences = tokenizer_tar.decode_batch(to_list(tar_tensor), skip_special_tokens=True)"
   ]
  },
  {
   "cell_type": "code",
   "execution_count": 69,
   "id": "565cb0b3",
   "metadata": {},
   "outputs": [],
   "source": [
    "def print_sents(arrs):\n",
    "    n = len(arrs)\n",
    "    for each in range(len(arrs[0])):\n",
    "        print(\"*****************************************\")\n",
    "        for i in range(n):\n",
    "            print(arrs[i][each])"
   ]
  },
  {
   "cell_type": "code",
   "execution_count": 70,
   "id": "a873c61e",
   "metadata": {},
   "outputs": [
    {
     "name": "stdout",
     "output_type": "stream",
     "text": [
      "*****************************************\n",
      "ढूंढा जा रहा है\n",
      "<sos> कुछ checksum slot जरूरी checksum अंजुता slot कुछ आयात\n",
      "*****************************************\n",
      "स्लाइडर\n",
      "<sos> स्लाइडर स्लाइडर checksum checksum अंतिम checksum checksum checksum <sos>\n",
      "*****************************************\n",
      "MD5 के लिए 0 , SHA1 के लिए 1 और SHA256 के लिए 2 सेट करें\n",
      "<sos> अंतिम अंजुता आयात कुछ slot कुछ checksum छवि त्यागना\n",
      "*****************************************\n",
      "'% s ' फाइल में लिखने की त्रुटिः % s\n",
      "<sos> कुछ छवि slot slot slot slot slot slot जरूरी\n",
      "*****************************************\n",
      "%. 1f × ( BD )%. 1f × ( DVD )%. 1f × ( CD )\n",
      "<sos> कुछ छवि कुछ कुछ slot जरूरी जरूरी कुछ कुछ\n",
      "*****************************************\n",
      "पुष्टिकरण\n",
      "<sos> मिटाएँ अंजुता मिटाएँ कुछ slot मान checksum छवि जरूरी\n",
      "*****************************************\n",
      "घटनाओं हेतु ध्वनि बजाएँ या नहीं .\n",
      "<sos> slot कुछ slot slot त्यागना कुछ फंक्शन slot slot\n",
      "*****************************************\n",
      "तिथि तथा समय प्रविषश्ट करें\n",
      "<sos> कुछ कुछ कुछ छवि f slot अंजुता आयात slot\n"
     ]
    }
   ],
   "source": [
    "op = transformer(src_tensor.to(device), curr_tar_tensor.to(device))\n",
    "transalation = torch.argmax(op, dim=-1)\n",
    "decoded_trans = tokenizer_tar.decode_batch(to_list(transalation[:, :curr_ind+1]), skip_special_tokens=False)\n",
    "print_sents((tar_sentences,decoded_trans)) "
   ]
  },
  {
   "cell_type": "code",
   "execution_count": null,
   "id": "3d1d0587",
   "metadata": {},
   "outputs": [],
   "source": [
    "curr_tar_tensor[:,0] = tokenizer_tar.token_to_id(\"<sos>\")\n",
    "curr_tar_tensor[:, start:] = tokenizer_tar.token_to_id(\"<pad>\")"
   ]
  },
  {
   "cell_type": "code",
   "execution_count": null,
   "id": "ddfa5e31",
   "metadata": {},
   "outputs": [],
   "source": []
  },
  {
   "cell_type": "code",
   "execution_count": 29,
   "id": "bbaee42d",
   "metadata": {},
   "outputs": [
    {
     "name": "stdout",
     "output_type": "stream",
     "text": [
      "['<sos> slot आयात slot checksum checksum slot छवि अंजुता आयात', '<sos> लिएः slot checksum अंतिम checksum छवि छवि छवि लिएः', '<sos> checksum slot कुछ कुछ डील कुछ अंतिम slot अंजुता', '<sos> checksum अंतिम कुछ कुछ slot कुछ slot छवि छवि', '<sos> लिएः मिटाएँ लिएः लिएः slot छवि लिएः डील डील', '<sos> कुछ रूप slot अंतिम अंतिम सिर्फ छवि छवि छवि', '<sos> कुछ कुछ slot checksum checksum जरूरी checksum जरूरी checksum', '<sos> slot कुछ कुछ कुछ कुछ checksum कुछ slot कुछ', '<sos> slot slot slot अभी slot slot slot कुछ जरूरी', '<sos> सेल्टिक सेल्टिक सेल्टिक सेल्टिक जरूरी सेल्टिक सेल्टिक चुनो सेल्टिक', '<sos> कुछ slot slot कुछ checksum checksum जरूरी slot कुछ', '<sos> checksum checksum अंतिम checksum अंतिम कुछ checksum checksum चुनो', '<sos> स्वतःपूर्ण slot आयात अंतिम सर्वर अंतिम checksum छवि slot', '<sos> छवि checksum checksum checksum slot checksum checksum checksum आयात', '<sos> आयात छवि कुछ slot कुछ slot slot checksum छवि', '<sos> कुछ कुछ मिटाएँ सामान्य कुछ अंतिम रिबेस डील सर्वर', '<sos> कुछ checksum checksum checksum checksum checksum checksum छवि सामान्य', '<sos> चौड़ाई slot शॉर्टकटः शॉर्टकटः slot checksum slot अंजुता कुछ', '<sos> checksum कुछ slot कुछ checksum छवि कि checksum मान', '<sos> लिएः किताब छवि checksum checksum किताब <sos> छवि छवि', '<sos> checksum checksum कुछ checksum slot छवि जरूरी छवि checksum', '<sos> लिएः slot सामान्य checksum slot checksum अंजुता checksum सर्वर', '<sos> slot slot slot कुछ कुछ checksum checksum आयात था', '<sos> कुछ सर्वर अंतिम slot slot किताब अंजुता होस्टनामः जरूरी', '<sos> आयात लिएः slot कुछ checksum कुछ छवि आयात slot', '<sos> मिटाएँ slot slot कुछ checksum सिर्फ checksum slot अंजुता', '<sos> त्यागना slot slot कुछ छवि slot लिएः slot checksum', '<sos> जरूरी सर्वर slot checksum checksum checksum अंजुता checksum checksum', '<sos> स्लाइस त्यागना slot slot छवि slot checksum checksum slot', '<sos> पैरामीटर्सः अंतिम मिटाएँ अंतिम अंतिम अंतिम जुले त्रुटि कुछ', '<sos> सीवीएस डायल सीवीएस checksum सीवीएस आयात checksum सीवीएस checksum', '<sos> चौड़ाई slot slot मिटाएँ checksum कुछ अंतिम checksum slot']\n"
     ]
    }
   ],
   "source": [
    "start = 1\n",
    "curr_tar_tensor = torch.ones(tar_tensor.shape, dtype=tar_tensor.dtype)\n",
    "curr_tar_tensor.copy_(tar_tensor)\n",
    "curr_tar_tensor[:,0] = tokenizer_tar.token_to_id(\"<sos>\")\n",
    "curr_tar_tensor[:, start:] = tokenizer_tar.token_to_id(\"<pad>\")\n",
    "for curr_ind in range(start,10):\n",
    "    op = transformer(src_tensor.to(device), curr_tar_tensor.to(device))\n",
    "    transalation = torch.argmax(op, dim=-1)\n",
    "    \n",
    "    decoded_trans = tokenizer_tar.decode_batch(to_list(transalation[:, :curr_ind+1]), skip_special_tokens=False)\n",
    "    curr_tar_tensor[:, curr_ind] = transalation[:, curr_ind]\n",
    "#     if decoded_trans[-1] == \"<eos>\":\n",
    "#         break\n",
    "\n",
    "print(decoded_trans)"
   ]
  },
  {
   "cell_type": "code",
   "execution_count": 30,
   "id": "f06b9af8",
   "metadata": {
    "scrolled": false
   },
   "outputs": [
    {
     "name": "stdout",
     "output_type": "stream",
     "text": [
      "*****************************************\n",
      "Open with\n",
      "खोलें इसके साथ\n",
      "<sos> slot आयात slot checksum checksum slot छवि अंजुता आयात\n",
      "*****************************************\n",
      "Simulation of image to disc burning\n",
      "छवि की डिस्क बर्निंग का सिमुलेशन\n",
      "<sos> लिएः slot checksum अंतिम checksum छवि छवि छवि लिएः\n",
      "*****************************************\n",
      "Diff files\n",
      "डिफ फ़ाइल\n",
      "<sos> checksum slot कुछ कुछ डील कुछ अंतिम slot अंजुता\n",
      "*****************************************\n",
      "That way , old files from previous sessions will be usable after burning .\n",
      "उस तरह से , पिछले सत्र से पुरानी फाइलें लिखने के बाद प्रयोग लायक होगी .\n",
      "<sos> checksum अंतिम कुछ कुछ slot कुछ slot छवि छवि\n",
      "*****************************************\n",
      "% s on reserve\n",
      "एक खाली खाँचाstockslot hint\n",
      "<sos> लिएः मिटाएँ लिएः लिएः slot छवि लिएः डील डील\n",
      "*****************************************\n",
      "Autocompletion\n",
      "स्वतः समापन\n",
      "<sos> कुछ रूप slot अंतिम अंतिम सिर्फ छवि छवि छवि\n",
      "*****************************************\n",
      "Project Manager\n",
      "परियोजना प्रबंधक\n",
      "<sos> कुछ कुछ slot checksum checksum जरूरी checksum जरूरी checksum\n",
      "*****************************************\n",
      "There are no songs to write to disc\n",
      "डिस्क में लिखने के लिए कोई गीत नहीं है\n",
      "<sos> slot कुछ कुछ कुछ कुछ checksum कुछ slot कुछ\n",
      "*****************************************\n",
      "Author / Date - Time\n",
      "लेखक / तारीख़ समय\n",
      "<sos> slot slot slot अभी slot slot slot कुछ जरूरी\n",
      "*****************************************\n",
      "Celtic\n",
      "सेल्टिक\n",
      "<sos> सेल्टिक सेल्टिक सेल्टिक सेल्टिक जरूरी सेल्टिक सेल्टिक चुनो सेल्टिक\n",
      "*****************************************\n",
      "Project doesn ' t exist or has an invalid path\n",
      "परियोजना या अवैध\n",
      "<sos> कुछ slot slot कुछ checksum checksum जरूरी slot कुछ\n",
      "*****************************************\n",
      "accelerator label\n",
      "त्वरक लेबल\n",
      "<sos> checksum checksum अंतिम checksum अंतिम कुछ checksum checksum चुनो\n",
      "*****************************************\n",
      "Methods\n",
      "विधि\n",
      "<sos> स्वतःपूर्ण slot आयात अंतिम सर्वर अंतिम checksum छवि slot\n",
      "*****************************************\n",
      "Theme file name\n",
      "प्रसंग फाइल नाम\n",
      "<sos> छवि checksum checksum checksum slot checksum checksum checksum आयात\n",
      "*****************************************\n",
      "Open an MD5 file\n",
      "एक md5 फाइल खोलें\n",
      "<sos> आयात छवि कुछ slot कुछ slot slot checksum छवि\n",
      "*****************************************\n",
      "could not create context\n",
      "अस्थायी फाईल % s बनाने में असमर्थ\n",
      "<sos> कुछ कुछ मिटाएँ सामान्य कुछ अंतिम रिबेस डील सर्वर\n",
      "*****************************************\n",
      "General ' s Patience\n",
      "जनरल का पेशेंस\n",
      "<sos> कुछ checksum checksum checksum checksum checksum checksum छवि सामान्य\n",
      "*****************************************\n",
      "Shortcut\n",
      "शॉर्टकट\n",
      "<sos> चौड़ाई slot शॉर्टकटः शॉर्टकटः slot checksum slot अंजुता कुछ\n",
      "*****************************************\n",
      "an empty reserve\n",
      "एक खाली खाँचा\n",
      "<sos> checksum कुछ slot कुछ checksum छवि कि checksum मान\n",
      "*****************************************\n",
      "License :\n",
      "लाइसेंसः\n",
      "<sos> लिएः किताब छवि checksum checksum किताब <sos> छवि छवि\n",
      "*****************************************\n",
      "Slices Preview\n",
      "स्लाइस पूर्वावलोकन\n",
      "<sos> checksum checksum कुछ checksum slot छवि जरूरी छवि checksum\n",
      "*****************************************\n",
      "Spiderette\n",
      "मादा मकड़ी\n",
      "<sos> लिएः slot सामान्य checksum slot checksum अंजुता checksum सर्वर\n",
      "*****************************************\n",
      "Create an SVCD\n",
      "एसवीसीडी बनाएँ\n",
      "<sos> slot slot slot कुछ कुछ checksum checksum आयात था\n",
      "*****************************************\n",
      "_ Quit\n",
      "बाहर ( _ Q )\n",
      "<sos> कुछ सर्वर अंतिम slot slot किताब अंजुता होस्टनामः जरूरी\n",
      "*****************************************\n",
      "the whole Project :\n",
      "प्रोजेक्ट बंद करें\n",
      "<sos> आयात लिएः slot कुछ checksum कुछ छवि आयात slot\n",
      "*****************************************\n",
      "Options\n",
      "विकल्प\n",
      "<sos> मिटाएँ slot slot कुछ checksum सिर्फ checksum slot अंजुता\n",
      "*****************************************\n",
      "Library\n",
      "लाइब्रेरी\n",
      "<sos> त्यागना slot slot कुछ छवि slot लिएः slot checksum\n",
      "*****************************************\n",
      "Search\n",
      "ढूंढें\n",
      "<sos> जरूरी सर्वर slot checksum checksum checksum अंजुता checksum checksum\n",
      "*****************************************\n",
      "File / Directory to patch\n",
      "फिल्टर का मिलान हुआ है\n",
      "<sos> स्लाइस त्यागना slot slot छवि slot checksum checksum slot\n",
      "*****************************************\n",
      "Mixed\n",
      "मिले - जुले\n",
      "<sos> पैरामीटर्सः अंतिम मिटाएँ अंतिम अंतिम अंतिम जुले त्रुटि कुछ\n",
      "*****************************************\n",
      "CVS operations\n",
      "सीवीएस\n",
      "<sos> सीवीएस डायल सीवीएस checksum सीवीएस आयात checksum सीवीएस checksum\n",
      "*****************************************\n",
      "_ Add Files\n",
      "फाइल जोड़ें ( _ A )\n",
      "<sos> चौड़ाई slot slot मिटाएँ checksum कुछ अंतिम checksum slot\n"
     ]
    }
   ],
   "source": [
    "src_sentences = tokenizer_src.decode_batch(to_list(src_tensor), skip_special_tokens=True)\n",
    "tar_sentences = tokenizer_tar.decode_batch(to_list(tar_tensor), skip_special_tokens=True)\n",
    "\n",
    "for i in range(len(src_sentences)):\n",
    "    print(\"*****************************************\")\n",
    "    print(src_sentences[i])\n",
    "    print(tar_sentences[i])\n",
    "    print(decoded_trans[i])"
   ]
  },
  {
   "cell_type": "code",
   "execution_count": 161,
   "id": "b0915bdb",
   "metadata": {},
   "outputs": [
    {
     "data": {
      "text/plain": [
       "torch.Size([8, 130])"
      ]
     },
     "execution_count": 161,
     "metadata": {},
     "output_type": "execute_result"
    }
   ],
   "source": [
    "transalation.shape"
   ]
  },
  {
   "cell_type": "code",
   "execution_count": 156,
   "id": "14d9e841",
   "metadata": {},
   "outputs": [
    {
     "data": {
      "text/plain": [
       "['<sos> CD / DVD slot',\n",
       " '<sos> अंजूटा हैल्प ब्राउजर slot',\n",
       " '<sos> कमांडः <eos> लिएः अंतिम',\n",
       " '<sos> शिफ्ट <eos> checksum डील',\n",
       " '<sos> हुकुम की दुक्का आयात',\n",
       " '<sos> लाल पान का कुछ',\n",
       " '<sos> बदलें स्थान ( आयात',\n",
       " '<sos> खोलें या को checksum']"
      ]
     },
     "execution_count": 156,
     "metadata": {},
     "output_type": "execute_result"
    }
   ],
   "source": [
    "tokenizer_tar.decode_batch(to_list(transalation[:, :curr_ind+1]), skip_special_tokens=False)"
   ]
  },
  {
   "cell_type": "code",
   "execution_count": 85,
   "id": "7e37caf2",
   "metadata": {},
   "outputs": [],
   "source": [
    "\n",
    "seq_src = list(map(list , src_tensor))\n",
    "seq_tar = list(map(list , tar_tensor))"
   ]
  },
  {
   "cell_type": "code",
   "execution_count": 86,
   "id": "9faea9af",
   "metadata": {},
   "outputs": [
    {
     "data": {
      "text/plain": [
       "tensor([[   2,  467,  213, 3380,    7, 3365,    3,    1,    1,    1,    1,    1,\n",
       "            1,    1,    1,    1,    1,    1,    1,    1,    1,    1,    1,    1,\n",
       "            1,    1,    1,    1,    1,    1,    1,    1,    1,    1,    1,    1,\n",
       "            1,    1,    1,    1,    1,    1,    1,    1,    1,    1,    1,    1,\n",
       "            1,    1,    1,    1,    1,    1,    1,    1,    1,    1,    1,    1,\n",
       "            1,    1,    1,    1,    1,    1,    1,    1,    1,    1,    1,    1,\n",
       "            1,    1,    1,    1,    1,    1,    1,    1,    1,    1,    1,    1,\n",
       "            1,    1,    1,    1,    1,    1,    1,    1,    1,    1,    1,    1,\n",
       "            1,    1,    1,    1,    1,    1,    1,    1,    1,    1,    1,    1,\n",
       "            1,    1,    1,    1,    1,    1,    1,    1,    1,    1,    1,    1,\n",
       "            1,    1,    1,    1,    1,    1,    1,    1,    1,    1],\n",
       "        [   2, 1332,  127,  280,  127, 4697,  127, 4801,  127, 4664,  127, 4736,\n",
       "          127,    3,    1,    1,    1,    1,    1,    1,    1,    1,    1,    1,\n",
       "            1,    1,    1,    1,    1,    1,    1,    1,    1,    1,    1,    1,\n",
       "            1,    1,    1,    1,    1,    1,    1,    1,    1,    1,    1,    1,\n",
       "            1,    1,    1,    1,    1,    1,    1,    1,    1,    1,    1,    1,\n",
       "            1,    1,    1,    1,    1,    1,    1,    1,    1,    1,    1,    1,\n",
       "            1,    1,    1,    1,    1,    1,    1,    1,    1,    1,    1,    1,\n",
       "            1,    1,    1,    1,    1,    1,    1,    1,    1,    1,    1,    1,\n",
       "            1,    1,    1,    1,    1,    1,    1,    1,    1,    1,    1,    1,\n",
       "            1,    1,    1,    1,    1,    1,    1,    1,    1,    1,    1,    1,\n",
       "            1,    1,    1,    1,    1,    1,    1,    1,    1,    1],\n",
       "        [   2,  227,  874,  148,    3,    1,    1,    1,    1,    1,    1,    1,\n",
       "            1,    1,    1,    1,    1,    1,    1,    1,    1,    1,    1,    1,\n",
       "            1,    1,    1,    1,    1,    1,    1,    1,    1,    1,    1,    1,\n",
       "            1,    1,    1,    1,    1,    1,    1,    1,    1,    1,    1,    1,\n",
       "            1,    1,    1,    1,    1,    1,    1,    1,    1,    1,    1,    1,\n",
       "            1,    1,    1,    1,    1,    1,    1,    1,    1,    1,    1,    1,\n",
       "            1,    1,    1,    1,    1,    1,    1,    1,    1,    1,    1,    1,\n",
       "            1,    1,    1,    1,    1,    1,    1,    1,    1,    1,    1,    1,\n",
       "            1,    1,    1,    1,    1,    1,    1,    1,    1,    1,    1,    1,\n",
       "            1,    1,    1,    1,    1,    1,    1,    1,    1,    1,    1,    1,\n",
       "            1,    1,    1,    1,    1,    1,    1,    1,    1,    1],\n",
       "        [   2,  198,   29,   25,  641, 1908,  556,   14, 2322,   13,    4, 3828,\n",
       "           12, 3740,    9,  174,    3,    1,    1,    1,    1,    1,    1,    1,\n",
       "            1,    1,    1,    1,    1,    1,    1,    1,    1,    1,    1,    1,\n",
       "            1,    1,    1,    1,    1,    1,    1,    1,    1,    1,    1,    1,\n",
       "            1,    1,    1,    1,    1,    1,    1,    1,    1,    1,    1,    1,\n",
       "            1,    1,    1,    1,    1,    1,    1,    1,    1,    1,    1,    1,\n",
       "            1,    1,    1,    1,    1,    1,    1,    1,    1,    1,    1,    1,\n",
       "            1,    1,    1,    1,    1,    1,    1,    1,    1,    1,    1,    1,\n",
       "            1,    1,    1,    1,    1,    1,    1,    1,    1,    1,    1,    1,\n",
       "            1,    1,    1,    1,    1,    1,    1,    1,    1,    1,    1,    1,\n",
       "            1,    1,    1,    1,    1,    1,    1,    1,    1,    1]])"
      ]
     },
     "execution_count": 86,
     "metadata": {},
     "output_type": "execute_result"
    }
   ],
   "source": [
    "src_tensor"
   ]
  },
  {
   "cell_type": "code",
   "execution_count": null,
   "id": "5812f667",
   "metadata": {},
   "outputs": [],
   "source": []
  }
 ],
 "metadata": {
  "kernelspec": {
   "display_name": "Python [conda env:torch310]",
   "language": "python",
   "name": "conda-env-torch310-py"
  },
  "language_info": {
   "codemirror_mode": {
    "name": "ipython",
    "version": 3
   },
   "file_extension": ".py",
   "mimetype": "text/x-python",
   "name": "python",
   "nbconvert_exporter": "python",
   "pygments_lexer": "ipython3",
   "version": "3.11.5"
  }
 },
 "nbformat": 4,
 "nbformat_minor": 5
}
